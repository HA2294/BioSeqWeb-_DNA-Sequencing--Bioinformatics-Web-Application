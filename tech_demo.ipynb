{
 "cells": [
  {
   "cell_type": "markdown",
   "id": "6618fd7e-ed1e-4f42-aa21-3e9cba5fa2a7",
   "metadata": {},
   "source": [
    "# STACKS And QUEUES"
   ]
  },
  {
   "cell_type": "markdown",
   "id": "cebe2c58-e203-4fb2-a263-bd485306678c",
   "metadata": {},
   "source": [
    "## Fundamental information\n",
    "#### These data structure have similar traits and operations ####\n",
    "- **Operations**: insert, remove, iterate\n",
    "- **Data**: collection of objects."
   ]
  },
  {
   "cell_type": "markdown",
   "id": "e050ca43-c6d5-4718-b132-63114bb7f275",
   "metadata": {},
   "source": [
    "<img src=\"dog.png\" alt=\"drawing\" width=\"500\"/>"
   ]
  },
  {
   "cell_type": "markdown",
   "id": "7169a0ef-2fb9-44a7-964a-141cf4e7ed54",
   "metadata": {},
   "source": [
    "**Insert operation**\n",
    "- **Stack**. Examine the item most recently added.\n",
    "- **Queue**. Examine the item least recently added."
   ]
  },
  {
   "cell_type": "markdown",
   "id": "f116d938-1134-4c53-8d41-8531ef228667",
   "metadata": {},
   "source": [
    "## STACKS"
   ]
  },
  {
   "cell_type": "markdown",
   "id": "a8717eae-7e4b-46d8-8f4e-330492b374f4",
   "metadata": {},
   "source": [
    "#### A stack is an data structure that is used to store a collection of elements, with two main principal operations: \n",
    "- Push, which adds an element to the collection, \n",
    "- Pop, which removes the most recently added element that was not yet removed."
   ]
  },
  {
   "cell_type": "markdown",
   "id": "316a3e44-73b7-4b17-9b85-f908a16e3279",
   "metadata": {},
   "source": [
    "### JAVA code IMPLEMENTATION"
   ]
  },
  {
   "cell_type": "markdown",
   "id": "0054fd5e-9981-4383-8689-23bcecbcc920",
   "metadata": {},
   "source": [
    "<img src=\"cat.png\" alt=\"drawig\" width=\"500\"/>"
   ]
  },
  {
   "cell_type": "markdown",
   "id": "2946cb3c-ac86-4f82-bf88-3bdb68f74433",
   "metadata": {},
   "source": [
    "##### The purpose of the code block above is to reverse a string, which is a very fundamental application of stacks"
   ]
  },
  {
   "cell_type": "markdown",
   "id": "d5e5387a-1526-45ea-81d3-a2c22bbe9732",
   "metadata": {},
   "source": [
    "### Python implementation example "
   ]
  },
  {
   "cell_type": "code",
   "execution_count": 1,
   "id": "af20abf1-eae9-4212-ac65-914293c4109f",
   "metadata": {},
   "outputs": [
    {
     "name": "stdout",
     "output_type": "stream",
     "text": [
      "Initial stack\n",
      "['add pic', 'edit pic', 'post pic']\n",
      "\n",
      "Pop\n",
      "['add pic', 'edit pic']\n",
      "\n",
      "Pop\n",
      "['add pic']\n",
      "\n",
      "Pop\n",
      "[]\n",
      "\n",
      "Stack after elements are popped:\n",
      "[]\n"
     ]
    }
   ],
   "source": [
    "stack = []\n",
    "\n",
    "stack.append('add pic')\n",
    "stack.append('edit pic')\n",
    "stack.append('post pic')\n",
    "  \n",
    "print('Initial stack')\n",
    "print(stack)\n",
    "  \n",
    "print('\\nPop')\n",
    "stack.pop()\n",
    "print(stack)\n",
    "\n",
    "print('\\nPop')\n",
    "stack.pop()\n",
    "print(stack)\n",
    "\n",
    "print('\\nPop')\n",
    "stack.pop()\n",
    "print(stack)\n",
    "  \n",
    "print('\\nStack after elements are popped:')\n",
    "print(stack)"
   ]
  },
  {
   "cell_type": "markdown",
   "id": "54761dc1-7bee-4699-bf1b-ab833e1a6f1e",
   "metadata": {},
   "source": [
    "### QUEUES"
   ]
  },
  {
   "cell_type": "markdown",
   "id": "25c1f95d-3598-42db-bd91-64ab63ae8fe6",
   "metadata": {},
   "source": [
    "##### A Queue is a linear structure which follows a particular order in which the operations are performed. \n",
    "##### The order is First In First Out (FIFO) and has three main operation\n",
    "- **EnQueue:** Add an item to the queue.\n",
    "- **eQueue:**  to remove an item from queue.\n",
    "- **search:** This function will check if there is an element in the queue matching your parameter"
   ]
  },
  {
   "cell_type": "code",
   "execution_count": 50,
   "id": "40be9eef-00e9-4d96-bbc1-b629b028d0a8",
   "metadata": {},
   "outputs": [
    {
     "name": "stdout",
     "output_type": "stream",
     "text": [
      "Initial Size Before Insertion: 0\n",
      "\n",
      "Initial Size after Insertion: 4\n",
      "['A', 'AA', 'AAA', 'AAAA']\n",
      "\n",
      "A\n",
      "AA\n",
      "AAA\n",
      "\n",
      "Size of Queue: 1\n",
      "Empty or Not?? False\n",
      "\n",
      "AAAA\n",
      "Empty or Not?? True\n"
     ]
    }
   ],
   "source": [
    "from queue import Queue\n",
    "q=Queue(maxsize= 100)\n",
    "print(\"Initial Size Before Insertion:\",q.qsize())\n",
    "\n",
    "#EnQueue: \n",
    "q.put('A')\n",
    "q.put('AA')\n",
    "q.put('AAA')\n",
    "q.put('AAAA')\n",
    "\n",
    "print(\"\\nInitial Size after Insertion:\",q.qsize())\n",
    "print(list(q.queue))\n",
    "\n",
    "#eQueue: Remove and return an item from the queue.\n",
    "print(\"\\n\"+ q.get())\n",
    "print(q.get())\n",
    "print(q.get())\n",
    "\n",
    "#q.qsize() tell the amount of element in the queue\n",
    "print(\"\\nSize of Queue:\",q.qsize())\n",
    "\n",
    "#empty() tell you if the queue empty or not\n",
    "print(\"Empty or Not??\",q.empty())\n",
    "\n",
    "print(\"\\n\" +q.get())\n",
    "print(\"Empty or Not??\",q.empty())\n"
   ]
  },
  {
   "cell_type": "code",
   "execution_count": null,
   "id": "cd9d0b4f-df0e-49c1-9294-758103596b7a",
   "metadata": {},
   "outputs": [],
   "source": []
  },
  {
   "cell_type": "code",
   "execution_count": null,
   "id": "95bef440-c2cb-48b4-9fc8-4ed90eabf324",
   "metadata": {},
   "outputs": [],
   "source": []
  }
 ],
 "metadata": {
  "kernelspec": {
   "display_name": "Python 3 (ipykernel)",
   "language": "python",
   "name": "python3"
  },
  "language_info": {
   "codemirror_mode": {
    "name": "ipython",
    "version": 3
   },
   "file_extension": ".py",
   "mimetype": "text/x-python",
   "name": "python",
   "nbconvert_exporter": "python",
   "pygments_lexer": "ipython3",
   "version": "3.9.12"
  }
 },
 "nbformat": 4,
 "nbformat_minor": 5
}
